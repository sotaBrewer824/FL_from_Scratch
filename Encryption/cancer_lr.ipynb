{
  "nbformat": 4,
  "nbformat_minor": 0,
  "metadata": {
    "colab": {
      "provenance": [],
      "gpuType": "T4"
    },
    "kernelspec": {
      "name": "python3",
      "display_name": "Python 3"
    },
    "language_info": {
      "name": "python"
    },
    "accelerator": "GPU"
  },
  "cells": [
    {
      "cell_type": "code",
      "source": [
        "import torch\n",
        "import torch.nn as nn # neural network module\n",
        "import numpy as np\n",
        "from sklearn import datasets # to load a binary classification dataset\n",
        "from sklearn.preprocessing import StandardScaler # to scale features\n",
        "from sklearn.model_selection import train_test_split #separation of training and testing data\n",
        "\n",
        "# prepare data\n",
        "bc = datasets.load_breast_cancer() #breast cancer data for binary classification problem to predict cancer based on input features\n",
        "X,y = bc.data, bc.target #X = independent variables(input features), y= dependent variables(what you want to predict)\n",
        "\n",
        "n_samples, n_features = X.shape\n",
        "print(n_samples,n_features) #num of rows = samples, num of columns = features\n",
        "\n",
        "\"\"\"\" So, after this line of code is executed,\n",
        " n_samples will be the number of samples in your dataset,\n",
        "and n_features will be the number of features (independent variables) in each sample. \"\"\"\n",
        "\n",
        "# split data\n",
        "X_train, X_test, y_train, y_test = train_test_split(X,y, test_size= 0.2, random_state=1234)\n",
        "\n",
        "# scale (Normalization Step)\n",
        "sc = StandardScaler() # make our features have zero mean and unit variance\n",
        "X_train = sc.fit_transform(X_train) # appropriately scales the training data\n",
        "X_test= sc.transform(X_test) # no need to fit as scaling parameters for X_train has been learned and you don't want to introduce new parameters\n",
        "\n",
        "# convert to torch tensors\n",
        "X_train = torch.from_numpy(X_train.astype(np.float32)) # convert to a tensor of float 32 datatype to avoid errors\n",
        "X_test = torch.from_numpy(X_test.astype(np.float32)) # convert to a tensor of float 32 datatype to avoid errors\n",
        "y_train = torch.from_numpy(y_train.astype(np.float32)) # convert to a tensor of float 32 datatype to avoid errors\n",
        "y_test = torch.from_numpy(y_test.astype(np.float32)) # convert to a tensor of float 32 datatype to avoid errors\n",
        "\n",
        "#ensure compatibility with the loss function etc. we are going to use\n",
        "y_train = y_train.view(y_train.shape[0], 1) # make into a column vector\n",
        "y_test = y_test.view(y_test.shape[0],1) # make into a column vector\n",
        "\n",
        "\n",
        "# model\n",
        "# linear combination of weights and biases: f = wx+b, sigmoid at the end\n",
        "class LogisticRegression(nn.Module):\n",
        "\n",
        "    def __init__(self, n_input_features):\n",
        "        super(LogisticRegression, self) .__init__()\n",
        "        self.linear = nn.Linear(n_input_features, 1) # linear network with n input features and 1 output feature since it is a classification model\n",
        "\n",
        "    def forward(self,x):\n",
        "        y_predicted = torch.sigmoid(self.linear(x))\n",
        "        return y_predicted\n",
        "model = LogisticRegression(n_features)\n",
        "\n",
        "acc_list = []\n",
        "# loss and optimizer\n",
        "# loss is calculated using binary cross entropy loss (useful for binary classification)\n",
        "learning_rate = 0.01\n",
        "criterion = nn.BCELoss(reduction= 'mean') # specified the reduction here, optional\n",
        "# parameters are the learnable weights and biases in the model\n",
        "optimizer = torch.optim.SGD(model.parameters(), lr =learning_rate) # stochastic gradient descent. less computationally expensive than regular GD\n",
        "# training loop\n",
        "num_epochs = 300\n",
        "for epoch in range(num_epochs):\n",
        "    # forward pass and loss\n",
        "    y_predicted = model(X_train) # forward pass with input data X_train\n",
        "    loss =  criterion(y_predicted, y_train)\n",
        "\n",
        "    # backward pass\n",
        "    loss.backward() # calculate loss\n",
        "    # updates\n",
        "    optimizer.step() # Pytorch will do all the updates for us\n",
        "\n",
        "    # zero gradients. Empty the gradients\n",
        "    optimizer.zero_grad()\n",
        "\n",
        "    # print info for every 10th step\n",
        "    if (epoch+1) % 10 == 0:\n",
        "        print(f'epoch: {epoch+1}, loss = {loss.item():.4f}')\n",
        "        # Evaluate model\n",
        "        with torch.no_grad(): # disable gradient calculation for evaluation\n",
        "         y_predicted = model(X_test)\n",
        "         y_predicted_cls = y_predicted.round() # rounds predicted value to nearest integer.if greater than 0.5, return (round to) a +1. cls-- classes\n",
        "         acc = y_predicted_cls.eq(y_test).sum()/float(y_test.shape[0]) # denominator is the number of test samples\n",
        "         acc_list.append(acc.item())\n",
        "         print(f'accuracy = {acc:.4f}') # print accuracy\n"
      ],
      "metadata": {
        "colab": {
          "base_uri": "https://localhost:8080/"
        },
        "id": "NSMNJ9wGcB-w",
        "outputId": "c0ea0fda-3933-489d-b945-5d6ecd7f1d0c"
      },
      "execution_count": 1,
      "outputs": [
        {
          "output_type": "stream",
          "name": "stdout",
          "text": [
            "569 30\n",
            "epoch: 10, loss = 0.6540\n",
            "accuracy = 0.7807\n",
            "epoch: 20, loss = 0.5079\n",
            "accuracy = 0.9123\n",
            "epoch: 30, loss = 0.4243\n",
            "accuracy = 0.9123\n",
            "epoch: 40, loss = 0.3708\n",
            "accuracy = 0.9298\n",
            "epoch: 50, loss = 0.3335\n",
            "accuracy = 0.9298\n",
            "epoch: 60, loss = 0.3058\n",
            "accuracy = 0.9298\n",
            "epoch: 70, loss = 0.2842\n",
            "accuracy = 0.9298\n",
            "epoch: 80, loss = 0.2668\n",
            "accuracy = 0.9123\n",
            "epoch: 90, loss = 0.2524\n",
            "accuracy = 0.9123\n",
            "epoch: 100, loss = 0.2403\n",
            "accuracy = 0.9123\n",
            "epoch: 110, loss = 0.2298\n",
            "accuracy = 0.9123\n",
            "epoch: 120, loss = 0.2207\n",
            "accuracy = 0.9123\n",
            "epoch: 130, loss = 0.2127\n",
            "accuracy = 0.9123\n",
            "epoch: 140, loss = 0.2055\n",
            "accuracy = 0.9123\n",
            "epoch: 150, loss = 0.1991\n",
            "accuracy = 0.9123\n",
            "epoch: 160, loss = 0.1932\n",
            "accuracy = 0.9123\n",
            "epoch: 170, loss = 0.1879\n",
            "accuracy = 0.9123\n",
            "epoch: 180, loss = 0.1830\n",
            "accuracy = 0.9123\n",
            "epoch: 190, loss = 0.1785\n",
            "accuracy = 0.9123\n",
            "epoch: 200, loss = 0.1744\n",
            "accuracy = 0.9123\n",
            "epoch: 210, loss = 0.1705\n",
            "accuracy = 0.9123\n",
            "epoch: 220, loss = 0.1669\n",
            "accuracy = 0.9123\n",
            "epoch: 230, loss = 0.1636\n",
            "accuracy = 0.9123\n",
            "epoch: 240, loss = 0.1604\n",
            "accuracy = 0.9123\n",
            "epoch: 250, loss = 0.1575\n",
            "accuracy = 0.9123\n",
            "epoch: 260, loss = 0.1547\n",
            "accuracy = 0.9123\n",
            "epoch: 270, loss = 0.1520\n",
            "accuracy = 0.9123\n",
            "epoch: 280, loss = 0.1495\n",
            "accuracy = 0.9123\n",
            "epoch: 290, loss = 0.1472\n",
            "accuracy = 0.9123\n",
            "epoch: 300, loss = 0.1449\n",
            "accuracy = 0.9123\n"
          ]
        }
      ]
    },
    {
      "cell_type": "code",
      "source": [
        "# plot the epoch and accuracy\n",
        "import matplotlib.pyplot as plt\n",
        "plt.plot(range(30), acc_list)\n",
        "plt.xlabel('Epochs')\n",
        "plt.ylabel('Loss')\n",
        "plt.show()"
      ],
      "metadata": {
        "colab": {
          "base_uri": "https://localhost:8080/",
          "height": 449
        },
        "id": "pGD07K7Lc-48",
        "outputId": "2095dccc-8ff3-43cf-ca5b-8d3d45184f2e"
      },
      "execution_count": 2,
      "outputs": [
        {
          "output_type": "display_data",
          "data": {
            "text/plain": [
              "<Figure size 640x480 with 1 Axes>"
            ],
            "image/png": "[encoded data removed]"
          },
          "metadata": {}
        }
      ]
    }
  ]
}